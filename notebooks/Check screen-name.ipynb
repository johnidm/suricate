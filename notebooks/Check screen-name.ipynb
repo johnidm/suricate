{
 "cells": [
  {
   "cell_type": "code",
   "execution_count": 5,
   "metadata": {},
   "outputs": [],
   "source": [
    "screem_names = [\n",
    "    'as23',\n",
    "    'AB23',\n",
    "    'acb12',\n",
    "    'acv123', \n",
    "    'Ab12',\n",
    "    'ACC123',\n",
    "    '123WWW',\n",
    "    'qwer123',\n",
    "    'qwe1234',\n",
    "    'qwer1234',\n",
    "]"
   ]
  },
  {
   "cell_type": "code",
   "execution_count": 6,
   "metadata": {},
   "outputs": [
    {
     "name": "stdout",
     "output_type": "stream",
     "text": [
      "as23 False\n",
      "AB23 False\n",
      "acb12 False\n",
      "acv123 True\n",
      "Ab12 False\n",
      "ACC123 True\n",
      "123WWW False\n",
      "qwer123 True\n",
      "qwe1234 True\n",
      "qwer1234 True\n"
     ]
    }
   ],
   "source": [
    "import re\n",
    "\n",
    "\n",
    "def is_bot(screem_name):\n",
    "    REGEX = r'\\w{3,}\\d{3,}'    \n",
    "    return bool(re.match(REGEX, screem_name))\n",
    "\n",
    "\n",
    "for name in screem_names:\n",
    "    print(name, is_bot(name))"
   ]
  },
  {
   "cell_type": "code",
   "execution_count": null,
   "metadata": {},
   "outputs": [],
   "source": []
  }
 ],
 "metadata": {
  "kernelspec": {
   "display_name": "Python 3",
   "language": "python",
   "name": "python3"
  },
  "language_info": {
   "codemirror_mode": {
    "name": "ipython",
    "version": 3
   },
   "file_extension": ".py",
   "mimetype": "text/x-python",
   "name": "python",
   "nbconvert_exporter": "python",
   "pygments_lexer": "ipython3",
   "version": "3.6.3"
  }
 },
 "nbformat": 4,
 "nbformat_minor": 2
}
