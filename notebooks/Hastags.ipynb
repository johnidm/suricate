{
 "cells": [
  {
   "cell_type": "code",
   "execution_count": 20,
   "metadata": {},
   "outputs": [],
   "source": [
    "import pymongo\n",
    "\n",
    "MONGO_DB_URL='mongodb://localhost:27017/suricate'\n",
    "\n",
    "client = pymongo.MongoClient(MONGO_DB_URL)\n",
    "collection = client.suricate['bolsonaro']\n",
    "\n",
    "data = list(collection.find({}))"
   ]
  },
  {
   "cell_type": "code",
   "execution_count": 29,
   "metadata": {
    "scrolled": false
   },
   "outputs": [
    {
     "name": "stdout",
     "output_type": "stream",
     "text": [
      "[('Bolsonaro2018', 46),\n",
      " ('somostodosbolsonaro', 15),\n",
      " ('SomosTodosBolsonaro', 15),\n",
      " ('tecmundo', 15),\n",
      " ('jairbolsonaro2018', 10),\n",
      " ('AgoraEComDatena', 10),\n",
      " ('BolsonaroPresidente2018', 9),\n",
      " ('Brasil', 9),\n",
      " ('G1', 9),\n",
      " ('BolsonaroPresidente', 7),\n",
      " ('Bolsonaro', 6),\n",
      " ('OcupaCuritiba8odia', 6),\n",
      " ('PGR', 5),\n",
      " ('Lavajato', 4),\n",
      " ('OcupaCuritiba8oDia', 4),\n",
      " ('bolsonaro2018', 4),\n",
      " ('GloboLixo', 3),\n",
      " ('bolsonaro', 3),\n",
      " ('Fantastico', 3),\n",
      " ('BOLSONARO2018', 2),\n",
      " ('BolsonaroNelles', 2),\n",
      " ('VotoImpresso', 2),\n",
      " ('FakeNews', 2),\n",
      " ('alexandreknoploch', 2),\n",
      " ('RJ', 2),\n",
      " ('Umriomelhor', 2),\n",
      " ('BrasilElectoral', 2),\n",
      " ('EuVotoBolsonaro17', 2),\n",
      " ('tipoco', 1),\n",
      " ('Bolsomito2018', 1),\n",
      " ('boa', 1),\n",
      " ('lula2018', 1),\n",
      " ('nãopassarão', 1),\n",
      " ('PreCandidatoDeputadoEstadualAndersonBranco', 1),\n",
      " ('LiberalismIsAMentalDisorder', 1),\n",
      " ('QueroMeuVotoImpresso', 1),\n",
      " ('denúncia', 1),\n",
      " ('LulaNaCadeia', 1),\n",
      " ('DomingoDetremuraSDV', 1),\n",
      " ('Datafolha', 1),\n",
      " ('doispesoseduasmedidas', 1),\n",
      " ('pgr', 1),\n",
      " ('LulaLivre', 1),\n",
      " ('armas', 1),\n",
      " ('armasdefogo', 1),\n",
      " ('armaspelavida', 1),\n",
      " ('cidadãodebem', 1),\n",
      " ('taurus', 1),\n",
      " ('ar15', 1),\n",
      " ('defesa', 1),\n",
      " ('VotoImpressoJa', 1),\n",
      " ('SDM97', 1),\n",
      " ('Denuncia', 1),\n",
      " ('CrimesEletronicos', 1),\n",
      " ('ClãBolsonaro', 1),\n",
      " ('DisputaEleitoral', 1),\n",
      " ('Exnulher', 1),\n",
      " ('VEREADORA', 1),\n",
      " ('OcupaCuritiba7odia', 1),\n",
      " ('MarielleFranco', 1),\n",
      " ('fantastico', 1),\n",
      " ('emelhorjairseacostumando', 1),\n",
      " ('DestruaOEstablishment', 1),\n",
      " ('DreneOPântano', 1),\n",
      " ('AgoraÉComDatena', 1),\n",
      " ('hipocritas', 1)]\n"
     ]
    }
   ],
   "source": [
    "hashtags_raw = list(filter(None, [d['entities']['hashtags'] for d in data]))\n",
    "\n",
    "from functools import reduce\n",
    "import operator\n",
    "\n",
    "hashtags = [d['text'] for d in reduce(operator.concat, hashtags_raw)]\n",
    "\n",
    "from collections import Counter\n",
    "\n",
    "ordered_hashtags = Counter(hashtags)\n",
    "\n",
    "import pprint\n",
    "pprint.pprint(ordered_hashtags.most_common())"
   ]
  }
 ],
 "metadata": {
  "kernelspec": {
   "display_name": "Python 3",
   "language": "python",
   "name": "python3"
  },
  "language_info": {
   "codemirror_mode": {
    "name": "ipython",
    "version": 3
   },
   "file_extension": ".py",
   "mimetype": "text/x-python",
   "name": "python",
   "nbconvert_exporter": "python",
   "pygments_lexer": "ipython3",
   "version": "3.6.3"
  }
 },
 "nbformat": 4,
 "nbformat_minor": 2
}
