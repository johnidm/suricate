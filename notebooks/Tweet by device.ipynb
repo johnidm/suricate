{
 "cells": [
  {
   "cell_type": "code",
   "execution_count": 12,
   "metadata": {},
   "outputs": [],
   "source": [
    "import pymongo\n",
    "\n",
    "MONGO_DB_URL='mongodb://localhost:27017/suricate'\n",
    "\n",
    "client = pymongo.MongoClient(MONGO_DB_URL)\n",
    "collection = client.suricate['bolsonaro']\n",
    "\n",
    "data = list(collection.find({}))"
   ]
  },
  {
   "cell_type": "code",
   "execution_count": 14,
   "metadata": {},
   "outputs": [
    {
     "name": "stdout",
     "output_type": "stream",
     "text": [
      "[('Twitter for Android', 2368),\n",
      " ('Twitter for iPhone', 1011),\n",
      " ('Twitter Web Client', 526),\n",
      " ('Twitter Lite', 213),\n",
      " ('Facebook', 84),\n",
      " ('Twitter for iPad', 65),\n",
      " ('Google', 57),\n",
      " ('Curious Cat', 35),\n",
      " ('TweetDeck', 16),\n",
      " ('Twitter for Windows Phone', 8),\n",
      " ('Twitter for Windows', 5),\n",
      " ('Tweetbot for iΟS', 4),\n",
      " ('IFTTT', 2),\n",
      " ('Opinião Pública', 1),\n",
      " ('TheQube', 1),\n",
      " ('Instagram', 1),\n",
      " ('TheBoBoBot_ebooks', 1),\n",
      " ('Talon Android', 1),\n",
      " ('Mobile Web (M2)', 1),\n",
      " ('Twidere for Android #5', 1),\n",
      " ('dlvr.it', 1),\n",
      " ('iOS', 1),\n",
      " ('Microsoft PowerApps and Flow', 1)]\n"
     ]
    }
   ],
   "source": [
    "import re\n",
    "\n",
    "devices_raw = [d['source'] for d in data]\n",
    "\n",
    "def extract(x):\n",
    "    return re.sub('<[^<>]+>', '', x)\n",
    "    \n",
    "devices = list(map(extract, devices_raw))\n",
    "\n",
    "from collections import Counter\n",
    "\n",
    "ordered_devices = Counter(devices)\n",
    "\n",
    "import pprint\n",
    "pprint.pprint(ordered_devices.most_common())"
   ]
  }
 ],
 "metadata": {
  "kernelspec": {
   "display_name": "Python 3",
   "language": "python",
   "name": "python3"
  },
  "language_info": {
   "codemirror_mode": {
    "name": "ipython",
    "version": 3
   },
   "file_extension": ".py",
   "mimetype": "text/x-python",
   "name": "python",
   "nbconvert_exporter": "python",
   "pygments_lexer": "ipython3",
   "version": "3.6.3"
  }
 },
 "nbformat": 4,
 "nbformat_minor": 2
}
