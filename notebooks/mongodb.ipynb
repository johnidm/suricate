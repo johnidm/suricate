{
 "cells": [
  {
   "cell_type": "code",
   "execution_count": 3,
   "metadata": {},
   "outputs": [
    {
     "name": "stdout",
     "output_type": "stream",
     "text": [
      "<pymongo.results.InsertOneResult object at 0x1110c7288>\n",
      "<pymongo.results.InsertOneResult object at 0x1110a8f08>\n",
      "----\n",
      "{'_id': ObjectId('59cdb02343b0f6fba9d7f268'), 'name': 'Johni'}\n"
     ]
    }
   ],
   "source": [
    "'''\n",
    "docker-machine restart default\n",
    "docker-machine rm default && docker-machine create --driver virtualbox default && eval \"$(docker-machine env default)\"\n",
    "docker-machine stop default && docker-machine start default\n",
    "\n",
    "docker volume create mongodbdata\n",
    "docker run -p 27017:27017 -v mongodbdata:/data/db --name mongodb mongo\n",
    "\n",
    "docker run -it -p 27017:27017 -v mongodbdata:/data/db --name mongodb mongo:latest mongo\n",
    "\n",
    "'''\n",
    "\n",
    "import pymongo\n",
    "\n",
    "client = pymongo.MongoClient('192.168.99.100')\n",
    "db = client.test_collection\n",
    "\n",
    "print(db.test_collection.insert_one({'name': 'Johni'}))\n",
    "print(db.test_collection.insert_one({'name': 'Douglas'}))\n",
    "print('----')\n",
    "print(db.test_collection.find_one())\n",
    "\n",
    "# import asyncio\n",
    "# import motor.motor_asyncio\n",
    "# client = motor.motor_asyncio.AsyncIOMotorClient('192.168.99.100')\n",
    "\n",
    "# db = client.test_database\n",
    "\n",
    "# async def do_insert():\n",
    "#     for i in range(2000):\n",
    "#         result = await db.test_collection.insert_one({'i': i})\n",
    "\n",
    "# loop = asyncio.get_event_loop()\n",
    "# loop.run_until_complete(do_insert())\n"
   ]
  }
 ],
 "metadata": {
  "kernelspec": {
   "display_name": "Python 3",
   "language": "python",
   "name": "python3"
  },
  "language_info": {
   "codemirror_mode": {
    "name": "ipython",
    "version": 3
   },
   "file_extension": ".py",
   "mimetype": "text/x-python",
   "name": "python",
   "nbconvert_exporter": "python",
   "pygments_lexer": "ipython3",
   "version": "3.6.0"
  }
 },
 "nbformat": 4,
 "nbformat_minor": 2
}
